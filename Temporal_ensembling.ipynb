{
 "cells": [
  {
   "cell_type": "code",
   "execution_count": 30,
   "id": "9dbc4bdf-1b64-4294-814e-9c60af4900f8",
   "metadata": {
    "tags": []
   },
   "outputs": [
    {
     "name": "stdout",
     "output_type": "stream",
     "text": [
      "Directory 'dataset/FER2013/train/.DS_Store' does not exist or is not a directory.\n",
      "Directory 'dataset/FER2013/train/.ipynb_checkpoints' does not exist or is not a directory.\n",
      "Directory 'dataset/FER2013/train/.DS_Store' does not exist or is not a directory.\n",
      "Directory 'dataset/FER2013/train/.ipynb_checkpoints' does not exist or is not a directory.\n",
      "Directory 'dataset/FER2013/train/.DS_Store' does not exist or is not a directory.\n",
      "Directory 'dataset/FER2013/train/.ipynb_checkpoints' does not exist or is not a directory.\n",
      "Directory 'dataset/FER2013/train/.DS_Store' does not exist or is not a directory.\n",
      "Directory 'dataset/FER2013/train/.ipynb_checkpoints' does not exist or is not a directory.\n",
      "Directory 'dataset/FER2013/train/.DS_Store' does not exist or is not a directory.\n",
      "Directory 'dataset/FER2013/train/.ipynb_checkpoints' does not exist or is not a directory.\n"
     ]
    }
   ],
   "source": [
    "import os\n",
    "import random\n",
    "import shutil\n",
    "\n",
    "# Function to move files from source to destination directory\n",
    "def move_files(source_dir, destination_dir, file_list):\n",
    "    for file in file_list:\n",
    "        src = os.path.join(source_dir, file)\n",
    "        dst = os.path.join(destination_dir, file)\n",
    "        shutil.copy(src, dst)\n",
    "\n",
    "# Directory containing labeled data\n",
    "labeled_data_dir = \"dataset/FER2013/train\"\n",
    "\n",
    "# Directory to store labeled data for different scenarios\n",
    "labeled_scenarios_dir = \"dataset/FER2013/labeled_scenarios\"\n",
    "\n",
    "# Directory to store unlabeled data\n",
    "unlabeled_data_dir = \"dataset/FER2013/unlabeled\"\n",
    "\n",
    "# List of emotions\n",
    "emotions = os.listdir(labeled_data_dir)\n",
    "\n",
    "# Number of labeled samples for each scenario\n",
    "num_labeled_samples = [10, 25, 100, 250]\n",
    "# Initialize a set to store all labeled files\n",
    "all_labeled_files = set()\n",
    "\n",
    "# Iterate over each scenario\n",
    "for num_samples in num_labeled_samples:\n",
    "    # Create a directory for the current scenario\n",
    "    scenario_dir = os.path.join(labeled_scenarios_dir, f\"{num_samples}_labeled\")\n",
    "    os.makedirs(scenario_dir, exist_ok=True)\n",
    "    \n",
    "    # Iterate over each emotion\n",
    "    for emotion in emotions:\n",
    "        # Get the path to the emotion directory\n",
    "        emotion_dir = os.path.join(labeled_data_dir, emotion)\n",
    "        # Check if the directory exists and is a directory\n",
    "        if os.path.isdir(emotion_dir) and not emotion == '.ipynb_checkpoints':\n",
    "            # List all image files for the current emotion, excluding .DS_Store\n",
    "            image_files = [f for f in os.listdir(emotion_dir) if not f.startswith('.')]\n",
    "            # Randomly select num_samples for labeling\n",
    "            labeled_files = random.sample(image_files, num_samples)\n",
    "            # Move the labeled files to the labeled directory\n",
    "            move_files(emotion_dir, scenario_dir, labeled_files)\n",
    "            # Add the labeled files to the set of all labeled files\n",
    "            all_labeled_files.update(labeled_files)\n",
    "        else:\n",
    "            print(f\"Directory '{emotion_dir}' does not exist or is not a directory.\")\n",
    "\n",
    "# Create the unlabeled directory if it doesn't exist\n",
    "os.makedirs(unlabeled_data_dir, exist_ok=True) \n",
    "\n",
    "# Move the remaining files to the unlabeled directory\n",
    "for emotion in emotions:\n",
    "    emotion_dir = os.path.join(labeled_data_dir, emotion)\n",
    "    if not emotion == '.ipynb_checkpoints' and os.path.isdir(emotion_dir) :\n",
    "        # List all files (excluding directories) for the current emotion\n",
    "        remaining_files = [f for f in os.listdir(emotion_dir) if os.path.isfile(os.path.join(emotion_dir, f)) and not f.startswith('.')]\n",
    "        move_files(emotion_dir, unlabeled_data_dir, remaining_files)\n",
    "    else:\n",
    "        print(f\"Directory '{emotion_dir}' does not exist or is not a directory.\")\n"
   ]
  },
  {
   "cell_type": "code",
   "execution_count": null,
   "id": "3ae7884b-2ffb-47f1-a8aa-885a499ca4ec",
   "metadata": {},
   "outputs": [],
   "source": []
  },
  {
   "cell_type": "code",
   "execution_count": null,
   "id": "0d73004b-1ac8-426f-9b86-3dd1f8db96e5",
   "metadata": {},
   "outputs": [],
   "source": []
  }
 ],
 "metadata": {
  "kernelspec": {
   "display_name": "Python 3 (ipykernel)",
   "language": "python",
   "name": "python3"
  },
  "language_info": {
   "codemirror_mode": {
    "name": "ipython",
    "version": 3
   },
   "file_extension": ".py",
   "mimetype": "text/x-python",
   "name": "python",
   "nbconvert_exporter": "python",
   "pygments_lexer": "ipython3",
   "version": "3.11.5"
  }
 },
 "nbformat": 4,
 "nbformat_minor": 5
}
