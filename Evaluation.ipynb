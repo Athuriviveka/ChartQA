{
 "cells": [
  {
   "cell_type": "markdown",
   "id": "e05ae33b-83ef-4939-8410-cdacefded17d",
   "metadata": {},
   "source": [
    "# Loading and Evaluating the trained models"
   ]
  },
  {
   "cell_type": "markdown",
   "id": "5ed67a13-24b1-41ee-9034-a69899bbafa6",
   "metadata": {},
   "source": [
    "### Trained Model with 250 Labeled Dataset per Class"
   ]
  },
  {
   "cell_type": "code",
   "execution_count": 1,
   "id": "fbc17428-d201-4f67-b91b-d684eae64431",
   "metadata": {
    "tags": []
   },
   "outputs": [
    {
     "name": "stderr",
     "output_type": "stream",
     "text": [
      "WARNING:absl:Compiled the loaded model, but the compiled metrics have yet to be built. `model.compile_metrics` will be empty until you train or evaluate the model.\n"
     ]
    },
    {
     "name": "stdout",
     "output_type": "stream",
     "text": [
      "Found 7180 images belonging to 7 classes.\n",
      "\u001b[1m  1/103\u001b[0m \u001b[37m━━━━━━━━━━━━━━━━━━━━\u001b[0m \u001b[1m24s\u001b[0m 236ms/step"
     ]
    },
    {
     "name": "stderr",
     "output_type": "stream",
     "text": [
      "/Users/balakumaransivarajan/anaconda3/lib/python3.11/site-packages/keras/src/trainers/data_adapters/py_dataset_adapter.py:120: UserWarning: Your `PyDataset` class should call `super().__init__(**kwargs)` in its constructor. `**kwargs` can include `workers`, `use_multiprocessing`, `max_queue_size`. Do not pass these arguments to `fit()`, as they will be ignored.\n",
      "  self._warn_if_super_not_called()\n"
     ]
    },
    {
     "name": "stdout",
     "output_type": "stream",
     "text": [
      "\u001b[1m103/103\u001b[0m \u001b[32m━━━━━━━━━━━━━━━━━━━━\u001b[0m\u001b[37m\u001b[0m \u001b[1m14s\u001b[0m 140ms/step\n",
      "              precision    recall  f1-score   support\n",
      "\n",
      "           0       0.15      0.18      0.16       958\n",
      "           1       0.02      0.15      0.04       111\n",
      "           2       0.15      0.13      0.14      1024\n",
      "           3       0.25      0.18      0.21      1774\n",
      "           4       0.17      0.15      0.16      1235\n",
      "           5       0.18      0.17      0.18      1247\n",
      "           6       0.11      0.13      0.12       831\n",
      "\n",
      "    accuracy                           0.16      7180\n",
      "   macro avg       0.15      0.16      0.14      7180\n",
      "weighted avg       0.18      0.16      0.17      7180\n",
      "\n"
     ]
    }
   ],
   "source": [
    "import tensorflow as tf\n",
    "from sklearn.metrics import classification_report\n",
    "from tensorflow.keras.preprocessing.image import ImageDataGenerator\n",
    "import numpy as np\n",
    "\n",
    "# 1. Load the Saved Model\n",
    "model = tf.keras.models.load_model(\"saved_models/model_250_labels_per_each_class.h5\")\n",
    "test_data_dir = \"dataset/FER2013/test\"\n",
    "\n",
    "# Define image dimensions and batch size\n",
    "img_width, img_height = 64, 64\n",
    "batch_size = 70\n",
    "\n",
    "# Load test data\n",
    "datagen = ImageDataGenerator(rescale=1.0/255)\n",
    "test_data_generator = datagen.flow_from_directory(\n",
    "    test_data_dir,\n",
    "    target_size=(img_width, img_height),\n",
    "    batch_size=batch_size,\n",
    "    class_mode='categorical',\n",
    "    color_mode='grayscale'\n",
    ")\n",
    "\n",
    "# Get predictions on the test data\n",
    "y_pred = model.predict(test_data_generator)\n",
    "\n",
    "# Convert predictions to class labels\n",
    "y_pred_classes = np.argmax(y_pred, axis=1)\n",
    "y_true_classes = test_data_generator.classes\n",
    "\n",
    "# Generate Classification Report\n",
    "report = classification_report(y_true_classes, y_pred_classes)\n",
    "print(report)\n"
   ]
  },
  {
   "cell_type": "markdown",
   "id": "56662a7e-e1f0-4721-a109-d29324f61916",
   "metadata": {},
   "source": [
    "### Trained Model with 25 Labeled Dataset per Class"
   ]
  },
  {
   "cell_type": "code",
   "execution_count": 8,
   "id": "93467f24-5839-4674-8c72-5152129997e7",
   "metadata": {
    "tags": []
   },
   "outputs": [
    {
     "name": "stderr",
     "output_type": "stream",
     "text": [
      "WARNING:absl:Compiled the loaded model, but the compiled metrics have yet to be built. `model.compile_metrics` will be empty until you train or evaluate the model.\n"
     ]
    },
    {
     "name": "stdout",
     "output_type": "stream",
     "text": [
      "\u001b[1m103/103\u001b[0m \u001b[32m━━━━━━━━━━━━━━━━━━━━\u001b[0m\u001b[37m\u001b[0m \u001b[1m2s\u001b[0m 18ms/step\n",
      "              precision    recall  f1-score   support\n",
      "\n",
      "           0       0.13      0.14      0.13       958\n",
      "           1       0.01      0.05      0.01       111\n",
      "           2       0.13      0.12      0.13      1024\n",
      "           3       0.23      0.15      0.18      1774\n",
      "           4       0.16      0.18      0.17      1235\n",
      "           5       0.17      0.14      0.15      1247\n",
      "           6       0.11      0.11      0.11       831\n",
      "\n",
      "    accuracy                           0.14      7180\n",
      "   macro avg       0.13      0.13      0.13      7180\n",
      "weighted avg       0.16      0.14      0.15      7180\n",
      "\n"
     ]
    }
   ],
   "source": [
    "model = tf.keras.models.load_model(\"saved_models/model_25_labels_per_each_class.h5\")\n",
    "y_pred = model.predict(test_data_generator)\n",
    "y_pred_classes = np.argmax(y_pred, axis=1)\n",
    "report = classification_report(y_true_classes, y_pred_classes)\n",
    "print(report)"
   ]
  },
  {
   "cell_type": "markdown",
   "id": "4733a8c0-ba77-4a1e-86ae-b497438196c7",
   "metadata": {},
   "source": [
    "### Trained Model with 100 Labeled Dataset per Class"
   ]
  },
  {
   "cell_type": "code",
   "execution_count": 2,
   "id": "04a0f496-92b2-4f35-8a9d-3e78f4d22b79",
   "metadata": {
    "tags": []
   },
   "outputs": [
    {
     "name": "stderr",
     "output_type": "stream",
     "text": [
      "WARNING:absl:Compiled the loaded model, but the compiled metrics have yet to be built. `model.compile_metrics` will be empty until you train or evaluate the model.\n"
     ]
    },
    {
     "name": "stdout",
     "output_type": "stream",
     "text": [
      "\u001b[1m103/103\u001b[0m \u001b[32m━━━━━━━━━━━━━━━━━━━━\u001b[0m\u001b[37m\u001b[0m \u001b[1m17s\u001b[0m 167ms/step\n",
      "              precision    recall  f1-score   support\n",
      "\n",
      "           0       0.13      0.15      0.14       958\n",
      "           1       0.02      0.14      0.03       111\n",
      "           2       0.15      0.13      0.14      1024\n",
      "           3       0.25      0.15      0.18      1774\n",
      "           4       0.16      0.15      0.15      1235\n",
      "           5       0.18      0.16      0.17      1247\n",
      "           6       0.11      0.11      0.11       831\n",
      "\n",
      "    accuracy                           0.14      7180\n",
      "   macro avg       0.14      0.14      0.13      7180\n",
      "weighted avg       0.17      0.14      0.15      7180\n",
      "\n"
     ]
    }
   ],
   "source": [
    "model = tf.keras.models.load_model(\"saved_models/model_100_labels_per_each_class.h5\")\n",
    "y_pred = model.predict(test_data_generator)\n",
    "y_pred_classes = np.argmax(y_pred, axis=1)\n",
    "report = classification_report(y_true_classes, y_pred_classes)\n",
    "print(report)"
   ]
  },
  {
   "cell_type": "markdown",
   "id": "1477b863-fe10-418d-9ead-895eae88d4ee",
   "metadata": {},
   "source": [
    "### Trained Model with 10 Labeled Dataset per Class"
   ]
  },
  {
   "cell_type": "code",
   "execution_count": 10,
   "id": "d66bd0f6-950b-408e-9bea-3f6a45454fe3",
   "metadata": {
    "tags": []
   },
   "outputs": [
    {
     "name": "stderr",
     "output_type": "stream",
     "text": [
      "WARNING:absl:Compiled the loaded model, but the compiled metrics have yet to be built. `model.compile_metrics` will be empty until you train or evaluate the model.\n"
     ]
    },
    {
     "name": "stdout",
     "output_type": "stream",
     "text": [
      "\u001b[1m103/103\u001b[0m \u001b[32m━━━━━━━━━━━━━━━━━━━━\u001b[0m\u001b[37m\u001b[0m \u001b[1m2s\u001b[0m 18ms/step\n",
      "              precision    recall  f1-score   support\n",
      "\n",
      "           0       0.12      0.10      0.11       958\n",
      "           1       0.01      0.12      0.02       111\n",
      "           2       0.15      0.18      0.16      1024\n",
      "           3       0.27      0.16      0.20      1774\n",
      "           4       0.19      0.09      0.12      1235\n",
      "           5       0.17      0.13      0.15      1247\n",
      "           6       0.12      0.17      0.14       831\n",
      "\n",
      "    accuracy                           0.14      7180\n",
      "   macro avg       0.15      0.13      0.13      7180\n",
      "weighted avg       0.18      0.14      0.15      7180\n",
      "\n"
     ]
    }
   ],
   "source": [
    "model = tf.keras.models.load_model(\"saved_models/model_10_labels_per_each_class.h5\")\n",
    "y_pred = model.predict(test_data_generator)\n",
    "y_pred_classes = np.argmax(y_pred, axis=1)\n",
    "report = classification_report(y_true_classes, y_pred_classes)\n",
    "print(report)"
   ]
  }
 ],
 "metadata": {
  "kernelspec": {
   "display_name": "Python 3 (ipykernel)",
   "language": "python",
   "name": "python3"
  },
  "language_info": {
   "codemirror_mode": {
    "name": "ipython",
    "version": 3
   },
   "file_extension": ".py",
   "mimetype": "text/x-python",
   "name": "python",
   "nbconvert_exporter": "python",
   "pygments_lexer": "ipython3",
   "version": "3.11.5"
  }
 },
 "nbformat": 4,
 "nbformat_minor": 5
}
