{
 "cells": [
  {
   "cell_type": "code",
   "execution_count": 6,
   "id": "fbc17428-d201-4f67-b91b-d684eae64431",
   "metadata": {
    "tags": []
   },
   "outputs": [
    {
     "name": "stderr",
     "output_type": "stream",
     "text": [
      "WARNING:absl:Compiled the loaded model, but the compiled metrics have yet to be built. `model.compile_metrics` will be empty until you train or evaluate the model.\n"
     ]
    },
    {
     "name": "stdout",
     "output_type": "stream",
     "text": [
      "Found 7180 images belonging to 7 classes.\n",
      "\u001b[1m103/103\u001b[0m \u001b[32m━━━━━━━━━━━━━━━━━━━━\u001b[0m\u001b[37m\u001b[0m \u001b[1m2s\u001b[0m 18ms/step\n",
      "              precision    recall  f1-score   support\n",
      "\n",
      "           0       0.13      0.14      0.14       958\n",
      "           1       0.02      0.14      0.04       111\n",
      "           2       0.13      0.13      0.13      1024\n",
      "           3       0.24      0.19      0.21      1774\n",
      "           4       0.18      0.16      0.17      1235\n",
      "           5       0.20      0.18      0.19      1247\n",
      "           6       0.14      0.15      0.15       831\n",
      "\n",
      "    accuracy                           0.16      7180\n",
      "   macro avg       0.15      0.16      0.15      7180\n",
      "weighted avg       0.18      0.16      0.17      7180\n",
      "\n"
     ]
    }
   ],
   "source": [
    "import tensorflow as tf\n",
    "from sklearn.metrics import classification_report\n",
    "from tensorflow.keras.preprocessing.image import ImageDataGenerator\n",
    "import numpy as np\n",
    "\n",
    "# 1. Load the Saved Model\n",
    "model = tf.keras.models.load_model(\"saved_models/model_250_labels_per_each_class.h5\")\n",
    "test_data_dir = \"dataset/FER2013/test\"\n",
    "\n",
    "# Define image dimensions and batch size\n",
    "img_width, img_height = 64, 64\n",
    "batch_size = 70\n",
    "\n",
    "# Load test data\n",
    "datagen = ImageDataGenerator(rescale=1.0/255)\n",
    "test_data_generator = datagen.flow_from_directory(\n",
    "    test_data_dir,\n",
    "    target_size=(img_width, img_height),\n",
    "    batch_size=batch_size,\n",
    "    class_mode='categorical',\n",
    "    color_mode='grayscale'\n",
    ")\n",
    "\n",
    "# Get predictions on the test data\n",
    "y_pred = model.predict(test_data_generator)\n",
    "\n",
    "# Convert predictions to class labels\n",
    "y_pred_classes = np.argmax(y_pred, axis=1)\n",
    "y_true_classes = test_data_generator.classes\n",
    "\n",
    "# Generate Classification Report\n",
    "report = classification_report(y_true_classes, y_pred_classes)\n",
    "print(report)\n"
   ]
  },
  {
   "cell_type": "code",
   "execution_count": 8,
   "id": "93467f24-5839-4674-8c72-5152129997e7",
   "metadata": {
    "tags": []
   },
   "outputs": [
    {
     "name": "stderr",
     "output_type": "stream",
     "text": [
      "WARNING:absl:Compiled the loaded model, but the compiled metrics have yet to be built. `model.compile_metrics` will be empty until you train or evaluate the model.\n"
     ]
    },
    {
     "name": "stdout",
     "output_type": "stream",
     "text": [
      "\u001b[1m103/103\u001b[0m \u001b[32m━━━━━━━━━━━━━━━━━━━━\u001b[0m\u001b[37m\u001b[0m \u001b[1m2s\u001b[0m 18ms/step\n",
      "              precision    recall  f1-score   support\n",
      "\n",
      "           0       0.13      0.14      0.13       958\n",
      "           1       0.01      0.05      0.01       111\n",
      "           2       0.13      0.12      0.13      1024\n",
      "           3       0.23      0.15      0.18      1774\n",
      "           4       0.16      0.18      0.17      1235\n",
      "           5       0.17      0.14      0.15      1247\n",
      "           6       0.11      0.11      0.11       831\n",
      "\n",
      "    accuracy                           0.14      7180\n",
      "   macro avg       0.13      0.13      0.13      7180\n",
      "weighted avg       0.16      0.14      0.15      7180\n",
      "\n"
     ]
    }
   ],
   "source": [
    "model = tf.keras.models.load_model(\"saved_models/model_25_labels_per_each_class.h5\")\n",
    "y_pred = model.predict(test_data_generator)\n",
    "y_pred_classes = np.argmax(y_pred, axis=1)\n",
    "report = classification_report(y_true_classes, y_pred_classes)\n",
    "print(report)"
   ]
  },
  {
   "cell_type": "code",
   "execution_count": 9,
   "id": "04a0f496-92b2-4f35-8a9d-3e78f4d22b79",
   "metadata": {
    "tags": []
   },
   "outputs": [
    {
     "name": "stderr",
     "output_type": "stream",
     "text": [
      "WARNING:absl:Compiled the loaded model, but the compiled metrics have yet to be built. `model.compile_metrics` will be empty until you train or evaluate the model.\n"
     ]
    },
    {
     "name": "stdout",
     "output_type": "stream",
     "text": [
      "\u001b[1m103/103\u001b[0m \u001b[32m━━━━━━━━━━━━━━━━━━━━\u001b[0m\u001b[37m\u001b[0m \u001b[1m2s\u001b[0m 18ms/step\n",
      "              precision    recall  f1-score   support\n",
      "\n",
      "           0       0.12      0.13      0.13       958\n",
      "           1       0.01      0.07      0.02       111\n",
      "           2       0.13      0.14      0.13      1024\n",
      "           3       0.26      0.18      0.21      1774\n",
      "           4       0.17      0.16      0.17      1235\n",
      "           5       0.18      0.14      0.16      1247\n",
      "           6       0.12      0.14      0.13       831\n",
      "\n",
      "    accuracy                           0.15      7180\n",
      "   macro avg       0.14      0.14      0.14      7180\n",
      "weighted avg       0.18      0.15      0.16      7180\n",
      "\n"
     ]
    }
   ],
   "source": [
    "model = tf.keras.models.load_model(\"saved_models/model_100_labels_per_each_class.h5\")\n",
    "y_pred = model.predict(test_data_generator)\n",
    "y_pred_classes = np.argmax(y_pred, axis=1)\n",
    "report = classification_report(y_true_classes, y_pred_classes)\n",
    "print(report)"
   ]
  },
  {
   "cell_type": "code",
   "execution_count": 10,
   "id": "d66bd0f6-950b-408e-9bea-3f6a45454fe3",
   "metadata": {
    "tags": []
   },
   "outputs": [
    {
     "name": "stderr",
     "output_type": "stream",
     "text": [
      "WARNING:absl:Compiled the loaded model, but the compiled metrics have yet to be built. `model.compile_metrics` will be empty until you train or evaluate the model.\n"
     ]
    },
    {
     "name": "stdout",
     "output_type": "stream",
     "text": [
      "\u001b[1m103/103\u001b[0m \u001b[32m━━━━━━━━━━━━━━━━━━━━\u001b[0m\u001b[37m\u001b[0m \u001b[1m2s\u001b[0m 18ms/step\n",
      "              precision    recall  f1-score   support\n",
      "\n",
      "           0       0.12      0.10      0.11       958\n",
      "           1       0.01      0.12      0.02       111\n",
      "           2       0.15      0.18      0.16      1024\n",
      "           3       0.27      0.16      0.20      1774\n",
      "           4       0.19      0.09      0.12      1235\n",
      "           5       0.17      0.13      0.15      1247\n",
      "           6       0.12      0.17      0.14       831\n",
      "\n",
      "    accuracy                           0.14      7180\n",
      "   macro avg       0.15      0.13      0.13      7180\n",
      "weighted avg       0.18      0.14      0.15      7180\n",
      "\n"
     ]
    }
   ],
   "source": [
    "model = tf.keras.models.load_model(\"saved_models/model_10_labels_per_each_class.h5\")\n",
    "y_pred = model.predict(test_data_generator)\n",
    "y_pred_classes = np.argmax(y_pred, axis=1)\n",
    "report = classification_report(y_true_classes, y_pred_classes)\n",
    "print(report)"
   ]
  },
  {
   "cell_type": "code",
   "execution_count": null,
   "id": "c6147b4a-57b9-43e4-80b9-d3de6d7725e2",
   "metadata": {},
   "outputs": [],
   "source": []
  }
 ],
 "metadata": {
  "kernelspec": {
   "display_name": "Python 3 (ipykernel)",
   "language": "python",
   "name": "python3"
  },
  "language_info": {
   "codemirror_mode": {
    "name": "ipython",
    "version": 3
   },
   "file_extension": ".py",
   "mimetype": "text/x-python",
   "name": "python",
   "nbconvert_exporter": "python",
   "pygments_lexer": "ipython3",
   "version": "3.11.5"
  }
 },
 "nbformat": 4,
 "nbformat_minor": 5
}
